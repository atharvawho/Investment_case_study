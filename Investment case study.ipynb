{
 "cells": [
  {
   "cell_type": "code",
   "execution_count": 1,
   "id": "e06d9f38",
   "metadata": {},
   "outputs": [
    {
     "data": {
      "text/html": [
       "<div>\n",
       "<style scoped>\n",
       "    .dataframe tbody tr th:only-of-type {\n",
       "        vertical-align: middle;\n",
       "    }\n",
       "\n",
       "    .dataframe tbody tr th {\n",
       "        vertical-align: top;\n",
       "    }\n",
       "\n",
       "    .dataframe thead th {\n",
       "        text-align: right;\n",
       "    }\n",
       "</style>\n",
       "<table border=\"1\" class=\"dataframe\">\n",
       "  <thead>\n",
       "    <tr style=\"text-align: right;\">\n",
       "      <th></th>\n",
       "      <th>Sr No</th>\n",
       "      <th>Date dd/mm/yyyy</th>\n",
       "      <th>Startup Name</th>\n",
       "      <th>Industry Vertical</th>\n",
       "      <th>SubVertical</th>\n",
       "      <th>City  Location</th>\n",
       "      <th>Investors Name</th>\n",
       "      <th>InvestmentnType</th>\n",
       "      <th>Amount in USD</th>\n",
       "      <th>Remarks</th>\n",
       "    </tr>\n",
       "  </thead>\n",
       "  <tbody>\n",
       "    <tr>\n",
       "      <th>0</th>\n",
       "      <td>1</td>\n",
       "      <td>09/01/2020</td>\n",
       "      <td>BYJU’S</td>\n",
       "      <td>E-Tech</td>\n",
       "      <td>E-learning</td>\n",
       "      <td>Bengaluru</td>\n",
       "      <td>Tiger Global Management</td>\n",
       "      <td>Private Equity Round</td>\n",
       "      <td>20,00,00,000</td>\n",
       "      <td>NaN</td>\n",
       "    </tr>\n",
       "    <tr>\n",
       "      <th>1</th>\n",
       "      <td>2</td>\n",
       "      <td>13/01/2020</td>\n",
       "      <td>Shuttl</td>\n",
       "      <td>Transportation</td>\n",
       "      <td>App based shuttle service</td>\n",
       "      <td>Gurgaon</td>\n",
       "      <td>Susquehanna Growth Equity</td>\n",
       "      <td>Series C</td>\n",
       "      <td>80,48,394</td>\n",
       "      <td>NaN</td>\n",
       "    </tr>\n",
       "    <tr>\n",
       "      <th>2</th>\n",
       "      <td>3</td>\n",
       "      <td>09/01/2020</td>\n",
       "      <td>Mamaearth</td>\n",
       "      <td>E-commerce</td>\n",
       "      <td>Retailer of baby and toddler products</td>\n",
       "      <td>Bengaluru</td>\n",
       "      <td>Sequoia Capital India</td>\n",
       "      <td>Series B</td>\n",
       "      <td>1,83,58,860</td>\n",
       "      <td>NaN</td>\n",
       "    </tr>\n",
       "    <tr>\n",
       "      <th>3</th>\n",
       "      <td>4</td>\n",
       "      <td>02/01/2020</td>\n",
       "      <td>https://www.wealthbucket.in/</td>\n",
       "      <td>FinTech</td>\n",
       "      <td>Online Investment</td>\n",
       "      <td>New Delhi</td>\n",
       "      <td>Vinod Khatumal</td>\n",
       "      <td>Pre-series A</td>\n",
       "      <td>30,00,000</td>\n",
       "      <td>NaN</td>\n",
       "    </tr>\n",
       "    <tr>\n",
       "      <th>4</th>\n",
       "      <td>5</td>\n",
       "      <td>02/01/2020</td>\n",
       "      <td>Fashor</td>\n",
       "      <td>Fashion and Apparel</td>\n",
       "      <td>Embroiled Clothes For Women</td>\n",
       "      <td>Mumbai</td>\n",
       "      <td>Sprout Venture Partners</td>\n",
       "      <td>Seed Round</td>\n",
       "      <td>18,00,000</td>\n",
       "      <td>NaN</td>\n",
       "    </tr>\n",
       "    <tr>\n",
       "      <th>...</th>\n",
       "      <td>...</td>\n",
       "      <td>...</td>\n",
       "      <td>...</td>\n",
       "      <td>...</td>\n",
       "      <td>...</td>\n",
       "      <td>...</td>\n",
       "      <td>...</td>\n",
       "      <td>...</td>\n",
       "      <td>...</td>\n",
       "      <td>...</td>\n",
       "    </tr>\n",
       "    <tr>\n",
       "      <th>3039</th>\n",
       "      <td>3040</td>\n",
       "      <td>29/01/2015</td>\n",
       "      <td>Printvenue</td>\n",
       "      <td>NaN</td>\n",
       "      <td>NaN</td>\n",
       "      <td>NaN</td>\n",
       "      <td>Asia Pacific Internet Group</td>\n",
       "      <td>Private Equity</td>\n",
       "      <td>45,00,000</td>\n",
       "      <td>NaN</td>\n",
       "    </tr>\n",
       "    <tr>\n",
       "      <th>3040</th>\n",
       "      <td>3041</td>\n",
       "      <td>29/01/2015</td>\n",
       "      <td>Graphene</td>\n",
       "      <td>NaN</td>\n",
       "      <td>NaN</td>\n",
       "      <td>NaN</td>\n",
       "      <td>KARSEMVEN Fund</td>\n",
       "      <td>Private Equity</td>\n",
       "      <td>8,25,000</td>\n",
       "      <td>Govt backed VC Fund</td>\n",
       "    </tr>\n",
       "    <tr>\n",
       "      <th>3041</th>\n",
       "      <td>3042</td>\n",
       "      <td>30/01/2015</td>\n",
       "      <td>Mad Street Den</td>\n",
       "      <td>NaN</td>\n",
       "      <td>NaN</td>\n",
       "      <td>NaN</td>\n",
       "      <td>Exfinity Fund, GrowX Ventures.</td>\n",
       "      <td>Private Equity</td>\n",
       "      <td>15,00,000</td>\n",
       "      <td>NaN</td>\n",
       "    </tr>\n",
       "    <tr>\n",
       "      <th>3042</th>\n",
       "      <td>3043</td>\n",
       "      <td>30/01/2015</td>\n",
       "      <td>Simplotel</td>\n",
       "      <td>NaN</td>\n",
       "      <td>NaN</td>\n",
       "      <td>NaN</td>\n",
       "      <td>MakeMyTrip</td>\n",
       "      <td>Private Equity</td>\n",
       "      <td>NaN</td>\n",
       "      <td>Strategic Funding, Minority stake</td>\n",
       "    </tr>\n",
       "    <tr>\n",
       "      <th>3043</th>\n",
       "      <td>3044</td>\n",
       "      <td>31/01/2015</td>\n",
       "      <td>couponmachine.in</td>\n",
       "      <td>NaN</td>\n",
       "      <td>NaN</td>\n",
       "      <td>NaN</td>\n",
       "      <td>UK based Group of Angel Investors</td>\n",
       "      <td>Seed Funding</td>\n",
       "      <td>1,40,000</td>\n",
       "      <td>NaN</td>\n",
       "    </tr>\n",
       "  </tbody>\n",
       "</table>\n",
       "<p>3044 rows × 10 columns</p>\n",
       "</div>"
      ],
      "text/plain": [
       "      Sr No Date dd/mm/yyyy                  Startup Name  \\\n",
       "0         1      09/01/2020                        BYJU’S   \n",
       "1         2      13/01/2020                        Shuttl   \n",
       "2         3      09/01/2020                     Mamaearth   \n",
       "3         4      02/01/2020  https://www.wealthbucket.in/   \n",
       "4         5      02/01/2020                        Fashor   \n",
       "...     ...             ...                           ...   \n",
       "3039   3040      29/01/2015                    Printvenue   \n",
       "3040   3041      29/01/2015                      Graphene   \n",
       "3041   3042      30/01/2015                Mad Street Den   \n",
       "3042   3043      30/01/2015                     Simplotel   \n",
       "3043   3044      31/01/2015              couponmachine.in   \n",
       "\n",
       "        Industry Vertical                            SubVertical  \\\n",
       "0                  E-Tech                             E-learning   \n",
       "1          Transportation              App based shuttle service   \n",
       "2              E-commerce  Retailer of baby and toddler products   \n",
       "3                 FinTech                      Online Investment   \n",
       "4     Fashion and Apparel            Embroiled Clothes For Women   \n",
       "...                   ...                                    ...   \n",
       "3039                  NaN                                    NaN   \n",
       "3040                  NaN                                    NaN   \n",
       "3041                  NaN                                    NaN   \n",
       "3042                  NaN                                    NaN   \n",
       "3043                  NaN                                    NaN   \n",
       "\n",
       "     City  Location                     Investors Name       InvestmentnType  \\\n",
       "0         Bengaluru            Tiger Global Management  Private Equity Round   \n",
       "1           Gurgaon          Susquehanna Growth Equity              Series C   \n",
       "2         Bengaluru              Sequoia Capital India              Series B   \n",
       "3         New Delhi                     Vinod Khatumal          Pre-series A   \n",
       "4            Mumbai            Sprout Venture Partners            Seed Round   \n",
       "...             ...                                ...                   ...   \n",
       "3039            NaN        Asia Pacific Internet Group        Private Equity   \n",
       "3040            NaN                     KARSEMVEN Fund        Private Equity   \n",
       "3041            NaN     Exfinity Fund, GrowX Ventures.        Private Equity   \n",
       "3042            NaN                         MakeMyTrip        Private Equity   \n",
       "3043            NaN  UK based Group of Angel Investors          Seed Funding   \n",
       "\n",
       "     Amount in USD                            Remarks  \n",
       "0     20,00,00,000                                NaN  \n",
       "1        80,48,394                                NaN  \n",
       "2      1,83,58,860                                NaN  \n",
       "3        30,00,000                                NaN  \n",
       "4        18,00,000                                NaN  \n",
       "...            ...                                ...  \n",
       "3039     45,00,000                                NaN  \n",
       "3040      8,25,000                Govt backed VC Fund  \n",
       "3041     15,00,000                                NaN  \n",
       "3042           NaN  Strategic Funding, Minority stake  \n",
       "3043      1,40,000                                NaN  \n",
       "\n",
       "[3044 rows x 10 columns]"
      ]
     },
     "execution_count": 1,
     "metadata": {},
     "output_type": "execute_result"
    }
   ],
   "source": [
    "import csv\n",
    "import pandas as pd\n",
    "import numpy as np\n",
    "import matplotlib.pyplot as plt\n",
    "import re\n",
    "\n",
    "df=pd.read_csv('D:\\Datasets\\startup_funding.csv')\n",
    "df"
   ]
  },
  {
   "cell_type": "code",
   "execution_count": 2,
   "id": "20ebc94f",
   "metadata": {},
   "outputs": [
    {
     "data": {
      "text/plain": [
       "(3044, 10)"
      ]
     },
     "execution_count": 2,
     "metadata": {},
     "output_type": "execute_result"
    }
   ],
   "source": [
    "df.shape"
   ]
  },
  {
   "cell_type": "code",
   "execution_count": 3,
   "id": "9a64f217",
   "metadata": {},
   "outputs": [
    {
     "data": {
      "text/plain": [
       "Sr No                 int64\n",
       "Date dd/mm/yyyy      object\n",
       "Startup Name         object\n",
       "Industry Vertical    object\n",
       "SubVertical          object\n",
       "City  Location       object\n",
       "Investors Name       object\n",
       "InvestmentnType      object\n",
       "Amount in USD        object\n",
       "Remarks              object\n",
       "dtype: object"
      ]
     },
     "execution_count": 3,
     "metadata": {},
     "output_type": "execute_result"
    }
   ],
   "source": [
    "df.dtypes"
   ]
  },
  {
   "cell_type": "code",
   "execution_count": 4,
   "id": "1dbfacdc",
   "metadata": {},
   "outputs": [
    {
     "data": {
      "text/plain": [
       "Sr No                   0\n",
       "Date dd/mm/yyyy         0\n",
       "Startup Name            0\n",
       "Industry Vertical     171\n",
       "SubVertical           936\n",
       "City  Location        180\n",
       "Investors Name         24\n",
       "InvestmentnType         4\n",
       "Amount in USD         960\n",
       "Remarks              2625\n",
       "dtype: int64"
      ]
     },
     "execution_count": 4,
     "metadata": {},
     "output_type": "execute_result"
    }
   ],
   "source": [
    "df.isnull().sum()\n"
   ]
  },
  {
   "cell_type": "code",
   "execution_count": 5,
   "id": "7dd290cd",
   "metadata": {},
   "outputs": [],
   "source": [
    "#Total number of funding done in each year"
   ]
  },
  {
   "cell_type": "code",
   "execution_count": 6,
   "id": "ab77a217",
   "metadata": {},
   "outputs": [
    {
     "name": "stdout",
     "output_type": "stream",
     "text": [
      "2020 7\n",
      "2019 111\n",
      "2018 310\n",
      "2017 687\n",
      "2016 993\n",
      "2015 935\n",
      "/015 1\n"
     ]
    }
   ],
   "source": [
    "d={}\n",
    "x=df[\"Date dd/mm/yyyy\"]\n",
    "for date in x.values:\n",
    "    year=date[-4:]\n",
    "    if year in d:\n",
    "        d[year]+=1\n",
    "    else:\n",
    "        d[year]=1\n",
    "for i in d:\n",
    "    print(i,d[i])"
   ]
  },
  {
   "cell_type": "code",
   "execution_count": 7,
   "id": "38a3081b",
   "metadata": {},
   "outputs": [],
   "source": [
    "#Top 10 Indian Cities with most no of startups"
   ]
  },
  {
   "cell_type": "code",
   "execution_count": 8,
   "id": "88727381",
   "metadata": {},
   "outputs": [
    {
     "data": {
      "text/plain": [
       "Bangalore    700\n",
       "Mumbai       567\n",
       "New Delhi    421\n",
       "Gurgaon      287\n",
       "Bengaluru    141\n",
       "Pune         105\n",
       "Hyderabad     99\n",
       "Chennai       97\n",
       "Noida         92\n",
       "Gurugram      50\n",
       "Name: City  Location, dtype: int64"
      ]
     },
     "execution_count": 8,
     "metadata": {},
     "output_type": "execute_result"
    }
   ],
   "source": [
    "df.dropna(subset=[\"City  Location\"],inplace=True)\n",
    "df[df[\"City  Location\"]==\"Delhi\"]==\"New Delhi\"\n",
    "df[df[\"City  Location\"]==\"banglore\"]==\"Banglore\"\n",
    "df[df[\"City  Location\"]==\"Bengaluru\"]==\"Banglore\"\n",
    "df[\"City  Location\"].value_counts()[:10]"
   ]
  },
  {
   "cell_type": "code",
   "execution_count": 9,
   "id": "8ba08658",
   "metadata": {},
   "outputs": [],
   "source": [
    "#top 10 Indian cities with most amount of fundings received"
   ]
  },
  {
   "cell_type": "code",
   "execution_count": 27,
   "id": "726f83bd",
   "metadata": {},
   "outputs": [
    {
     "name": "stdout",
     "output_type": "stream",
     "text": [
      "Banglore 54.08 %\n",
      "Mumbai 14.43 %\n",
      "New Delhi 9.81 %\n",
      "Gurgaon 8.78 %\n",
      "Noida 3.69 %\n",
      "Gurugram 2.53 %\n",
      "Chennai 2.1 %\n",
      "Pune 2.1 %\n",
      "Menlo Park 1.31 %\n",
      "Hyderabad 1.17 %\n"
     ]
    }
   ],
   "source": [
    "def seperate_city(city):\n",
    "    return city.split('/')[0].strip()\n",
    "df[\"City  Location\"]=df[\"City  Location\"].apply(seperate_city)\n",
    "df[\"City  Location\"].replace(\"Delhi\",\"New Delhi\",inplace=True)\n",
    "df[\"City  Location\"].replace(\"banglore\",\"Banglore\",inplace=True)\n",
    "df[\"City  Location\"].replace(\"Bengaluru\",\"Banglore\",inplace=True)\n",
    "df[\"City  Location\"].replace(\"Bangalore\",\"Banglore\",inplace=True)\n",
    "\n",
    "\n",
    "df[\"Amount in USD\"].replace(\"undisclosed\",\"0\",inplace=True)\n",
    "df[\"Amount in USD\"].replace(\"unknown\",\"0\",inplace=True)\n",
    "df[\"Amount in USD\"].replace(\"Undisclosed\",\"0\",inplace=True)\n",
    "df[\"Amount in USD\"].replace('14,342,000+',\"14342000\",inplace=True)\n",
    "df[\"Amount in USD\"].replace(\"\\\\\\\\xc2\\\\\\\\xa020,000,000\",\"0\",inplace=True)\n",
    "df[\"Amount in USD\"].replace(\"\\\\\\\\xc2\\\\\\\\xa016,200,000\",\"0\",inplace=True)\n",
    "df[\"Amount in USD\"].replace(\"\\\\\\\\xc2\\\\\\\\xa0N/A\",\"0\",inplace=True)\n",
    "df[\"Amount in USD\"].replace(\"\\\\\\\\xc2\\\\\\\\xa0600,000\",\"0\",inplace=True)\n",
    "df[\"Amount in USD\"].replace(\"\\\\\\\\xc2\\\\\\\\xa0685,000\",\"0\",inplace=True)\n",
    "df[\"Amount in USD\"].replace(\"\\\\\\\\xc2\\\\\\\\xa019,350,000\",\"0\",inplace=True)\n",
    "df[\"Amount in USD\"].replace(\"\\\\\\\\xc2\\\\\\\\xa05,000,000\",\"0\",inplace=True)\n",
    "df[\"Amount in USD\"].replace(\"\\\\\\\\xc2\\\\\\\\xa010,000,000\",\"0\",inplace=True)\n",
    "\n",
    "\n",
    "\n",
    "df['Amount in USD'] = df['Amount in USD'].apply(lambda x: float(str(x).replace(\",\",\"\")))\n",
    "\n",
    "\n",
    "y = df.groupby('City  Location')['Amount in USD'].sum()\n",
    "y=y.sort_values(ascending=False)[:10]\n",
    "city=y.index\n",
    "amount=y.values\n",
    "\n",
    "percent=np.true_divide(amount,amount.sum())*100\n",
    "for i in range (len(city)):\n",
    "    print(city[i],round(percent[i],2),\"%\")\n"
   ]
  },
  {
   "cell_type": "code",
   "execution_count": null,
   "id": "e898e137",
   "metadata": {},
   "outputs": [],
   "source": [
    "# investment type and percentage of amount funded"
   ]
  },
  {
   "cell_type": "code",
   "execution_count": 28,
   "id": "7543b8b2",
   "metadata": {},
   "outputs": [
    {
     "name": "stdout",
     "output_type": "stream",
     "text": [
      "Private Equity 71.76 %\n",
      "Series B 13.55 %\n",
      "Series D 4.18 %\n",
      "Series C 2.95 %\n",
      "Funding Round 2.82 %\n",
      "Seed Funding 1.54 %\n",
      "Private Equity Round 1.43 %\n",
      "Series G 0.65 %\n",
      "Series A 0.57 %\n",
      "Seed Round 0.55 %\n"
     ]
    }
   ],
   "source": [
    "df['InvestmentnType'].replace('SeedFunding','Seed Funding',inplace = True)\n",
    "df['InvestmentnType'].replace('PrivateEquity','Private Equity',inplace = True)\n",
    "df['InvestmentnType'].replace('DebtFunding','Debt Funding',inplace = True)\n",
    "df['InvestmentnType'].replace('Crowd funding','Crowd Funding',inplace = True)\n",
    "\n",
    "df['Amount in USD'] = df['Amount in USD'].apply(lambda x: float(str(x).replace(\",\",\"\")))\n",
    "\n",
    "z=df.groupby('InvestmentnType')['Amount in USD'].sum()\n",
    "z=z.sort_values(ascending=False)[:10]\n",
    "investment=z.index\n",
    "amount=z.values\n",
    "\n",
    "percent=np.true_divide(amount,amount.sum())*100\n",
    "for i in range (len(city)):\n",
    "    print(investment[i],round(percent[i],2),\"%\")"
   ]
  },
  {
   "cell_type": "code",
   "execution_count": null,
   "id": "8d643015",
   "metadata": {},
   "outputs": [],
   "source": [
    "#Top 5 industries and percentage of the total amount funded to that industry"
   ]
  },
  {
   "cell_type": "code",
   "execution_count": 29,
   "id": "0784245b",
   "metadata": {},
   "outputs": [
    {
     "name": "stdout",
     "output_type": "stream",
     "text": [
      "Ecommerce 33.27 %\n",
      "Consumer Internet 29.04 %\n",
      "Transportation 18.19 %\n",
      "Technology 10.35 %\n",
      "Finance 9.15 %\n"
     ]
    }
   ],
   "source": [
    "df['Industry Vertical'].replace('ECommerce','Ecommerce',inplace = True)\n",
    "df['Industry Vertical'].replace('eCommerce','Ecommerce',inplace = True)\n",
    "df['Industry Vertical'].replace('ecommerce','Ecommerce',inplace = True)\n",
    "\n",
    "a=df.groupby('Industry Vertical')['Amount in USD'].sum()\n",
    "a=a.sort_values(ascending=False)[:5]\n",
    "\n",
    "industry=a.index\n",
    "amount=a.values\n",
    "percent=np.true_divide(amount,amount.sum())*100\n",
    "for i in range (len(industry)):\n",
    "    print(industry[i],round(percent[i],2),\"%\")"
   ]
  },
  {
   "cell_type": "code",
   "execution_count": null,
   "id": "9862cbb7",
   "metadata": {},
   "outputs": [],
   "source": [
    "#top 5 startups with most amount of total funding"
   ]
  },
  {
   "cell_type": "code",
   "execution_count": 30,
   "id": "02880cfd",
   "metadata": {},
   "outputs": [
    {
     "name": "stdout",
     "output_type": "stream",
     "text": [
      "Flipkart\n",
      "Rapido Bike Taxi\n",
      "Paytm\n",
      "Ola\n",
      "Oyo\n"
     ]
    }
   ],
   "source": [
    "df['Startup Name'].replace('Oyorooms','Oyo',inplace = True)\n",
    "df['Startup Name'].replace('OyoRooms','Oyo',inplace = True)\n",
    "df['Startup Name'].replace('Oyo Rooms','Oyo',inplace = True)\n",
    "df['Startup Name'].replace('OYO Rooms','Oyo',inplace = True)\n",
    "df['Startup Name'].replace('Olacabs','Ola',inplace = True)\n",
    "df['Startup Name'].replace('Ola Cabs','Ola',inplace = True)\n",
    "df['Startup Name'].replace('Olacabs','Ola',inplace = True)\n",
    "df['Startup Name'].replace('Flipkart.com','Flipkart',inplace = True)\n",
    "df['Startup Name'].replace('Paytm Marketplace','Paytm',inplace = True)\n",
    "\n",
    "b=df.groupby('Startup Name')['Amount in USD'].sum()\n",
    "b=b.sort_values(ascending=False)[:5]\n",
    "\n",
    "for i in range(len(b.index)):\n",
    "    print(b.index[i])"
   ]
  },
  {
   "cell_type": "code",
   "execution_count": null,
   "id": "4eb7d043",
   "metadata": {},
   "outputs": [],
   "source": [
    "#Find the top 5 startups who received the most number of funding rounds"
   ]
  },
  {
   "cell_type": "code",
   "execution_count": 31,
   "id": "b6fb3649",
   "metadata": {},
   "outputs": [
    {
     "name": "stdout",
     "output_type": "stream",
     "text": [
      "Ola 13\n",
      "Oyo 8\n",
      "Swiggy 8\n",
      "Meesho 6\n",
      "Nykaa 6\n"
     ]
    }
   ],
   "source": [
    "totalfunding = df['Startup Name'].value_counts()[:5]\n",
    "startupname = totalfunding.index\n",
    "count = totalfunding.values\n",
    "for i in range(5):\n",
    "    print(startupname[i],count[i])"
   ]
  },
  {
   "cell_type": "code",
   "execution_count": null,
   "id": "212eca53",
   "metadata": {},
   "outputs": [],
   "source": [
    "#To find the investor who has invested maximum number of times"
   ]
  },
  {
   "cell_type": "code",
   "execution_count": 33,
   "id": "2cff76aa",
   "metadata": {},
   "outputs": [
    {
     "name": "stdout",
     "output_type": "stream",
     "text": [
      "Accel Partners 66\n"
     ]
    }
   ],
   "source": [
    "df.dropna(subset=['Investors Name'],inplace=True)\n",
    "d={}\n",
    "\n",
    "def investor_name(invest):\n",
    "    l=invest.split(',')\n",
    "    for i in l:\n",
    "        i=i.strip()\n",
    "        d[i]=d.get(i,0)+1\n",
    "    return l\n",
    "\n",
    "df['Investors Name'].apply(investor_name)\n",
    "\n",
    "key=np.array(list(d.keys()))\n",
    "values=np.array(list(d.values()))\n",
    "\n",
    "ind=values.argmax()\n",
    "print(key[ind],values[ind])"
   ]
  },
  {
   "cell_type": "code",
   "execution_count": null,
   "id": "81d0d241",
   "metadata": {},
   "outputs": [],
   "source": []
  },
  {
   "cell_type": "code",
   "execution_count": null,
   "id": "c0448bc8",
   "metadata": {},
   "outputs": [],
   "source": []
  }
 ],
 "metadata": {
  "kernelspec": {
   "display_name": "Python 3 (ipykernel)",
   "language": "python",
   "name": "python3"
  },
  "language_info": {
   "codemirror_mode": {
    "name": "ipython",
    "version": 3
   },
   "file_extension": ".py",
   "mimetype": "text/x-python",
   "name": "python",
   "nbconvert_exporter": "python",
   "pygments_lexer": "ipython3",
   "version": "3.10.9"
  }
 },
 "nbformat": 4,
 "nbformat_minor": 5
}
